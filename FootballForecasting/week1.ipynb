{
 "cells": [
  {
   "cell_type": "code",
   "execution_count": 5,
   "id": "8c4aad19",
   "metadata": {
    "slideshow": {
     "slide_type": "fragment"
    }
   },
   "outputs": [],
   "source": [
    "from scipy.stats import poisson \n",
    "import numpy as np\n",
    "import matplotlib\n",
    "import matplotlib.pyplot as plt \n",
    "import seaborn as sns\n",
    "import pandas as pd\n",
    "import statsmodels.api as sm\n",
    "import statsmodels.formula.api as smf"
   ]
  },
  {
   "cell_type": "code",
   "execution_count": 6,
   "id": "eb8a0d6f",
   "metadata": {
    "slideshow": {
     "slide_type": "fragment"
    }
   },
   "outputs": [],
   "source": [
    "def get_premier_league_data(start_year):\n",
    "    season = str(start_year)[-2:] + str(start_year + 1)[-2:]\n",
    "    data = pd.read_csv(\"http://www.football-data.co.uk/mmz4281/\" + season + \"/E0.csv\") \n",
    "    return data"
   ]
  },
  {
   "cell_type": "code",
   "execution_count": 7,
   "id": "f59b0418",
   "metadata": {
    "slideshow": {
     "slide_type": "slide"
    }
   },
   "outputs": [],
   "source": [
    "data = getdata(2021)"
   ]
  },
  {
   "cell_type": "code",
   "execution_count": 5,
   "id": "672f3b72",
   "metadata": {
    "slideshow": {
     "slide_type": "fragment"
    }
   },
   "outputs": [],
   "source": [
    "columns = [\"HomeTeam\", \"AwayTeam\", \"FTHG\", \"FTAG\", \"FTR\"]\n",
    "data = data[columns]\n",
    "\n",
    "data = data.rename(\n",
    "    columns={\"FTHG\": \"HomeGoals\", \"FTAG\": \"AwayGoals\", \"FTR\": \"Result\"}\n",
    ")"
   ]
  },
  {
   "cell_type": "code",
   "execution_count": 8,
   "id": "10bca848",
   "metadata": {
    "slideshow": {
     "slide_type": "fragment"
    }
   },
   "outputs": [],
   "source": [
    "home_goals = data[[\"HomeTeam\", \"AwayTeam\", \"HomeGoals\"]]\n",
    "home_goals = home_goals.assign(home=1)\n",
    "home_goals = home_goals.rename(\n",
    "    columns={\"HomeTeam\": \"team\",\n",
    "             \"AwayTeam\": \"opponent\", \n",
    "             \"HomeGoals\": \"goals\"}\n",
    ")\n",
    "\n",
    "away_goals = data[[\"AwayTeam\", \"HomeTeam\", \"AwayGoals\"]]\n",
    "away_goals = away_goals.assign(home=0)\n",
    "away_goals = away_goals.rename(\n",
    "    columns={\"AwayTeam\": \"team\",\n",
    "             \"HomeTeam\": \"opponent\", \n",
    "             \"AwayGoals\": \"goals\"}\n",
    ")"
   ]
  },
  {
   "cell_type": "code",
   "execution_count": 9,
   "id": "27b7c0cb",
   "metadata": {
    "slideshow": {
     "slide_type": "slide"
    }
   },
   "outputs": [
    {
     "data": {
      "text/html": [
       "<div>\n",
       "<style scoped>\n",
       "    .dataframe tbody tr th:only-of-type {\n",
       "        vertical-align: middle;\n",
       "    }\n",
       "\n",
       "    .dataframe tbody tr th {\n",
       "        vertical-align: top;\n",
       "    }\n",
       "\n",
       "    .dataframe thead th {\n",
       "        text-align: right;\n",
       "    }\n",
       "</style>\n",
       "<table border=\"1\" class=\"dataframe\">\n",
       "  <thead>\n",
       "    <tr style=\"text-align: right;\">\n",
       "      <th></th>\n",
       "      <th>team</th>\n",
       "      <th>opponent</th>\n",
       "      <th>goals</th>\n",
       "      <th>home</th>\n",
       "    </tr>\n",
       "  </thead>\n",
       "  <tbody>\n",
       "    <tr>\n",
       "      <th>0</th>\n",
       "      <td>Brentford</td>\n",
       "      <td>Arsenal</td>\n",
       "      <td>2</td>\n",
       "      <td>1</td>\n",
       "    </tr>\n",
       "    <tr>\n",
       "      <th>1</th>\n",
       "      <td>Man United</td>\n",
       "      <td>Leeds</td>\n",
       "      <td>5</td>\n",
       "      <td>1</td>\n",
       "    </tr>\n",
       "    <tr>\n",
       "      <th>2</th>\n",
       "      <td>Burnley</td>\n",
       "      <td>Brighton</td>\n",
       "      <td>1</td>\n",
       "      <td>1</td>\n",
       "    </tr>\n",
       "    <tr>\n",
       "      <th>3</th>\n",
       "      <td>Chelsea</td>\n",
       "      <td>Crystal Palace</td>\n",
       "      <td>3</td>\n",
       "      <td>1</td>\n",
       "    </tr>\n",
       "    <tr>\n",
       "      <th>4</th>\n",
       "      <td>Everton</td>\n",
       "      <td>Southampton</td>\n",
       "      <td>3</td>\n",
       "      <td>1</td>\n",
       "    </tr>\n",
       "  </tbody>\n",
       "</table>\n",
       "</div>"
      ],
      "text/plain": [
       "         team        opponent  goals  home\n",
       "0   Brentford         Arsenal      2     1\n",
       "1  Man United           Leeds      5     1\n",
       "2     Burnley        Brighton      1     1\n",
       "3     Chelsea  Crystal Palace      3     1\n",
       "4     Everton     Southampton      3     1"
      ]
     },
     "execution_count": 9,
     "metadata": {},
     "output_type": "execute_result"
    }
   ],
   "source": [
    "training_data = pd.concat([home_goals, away_goals])\n",
    "training_data.head()"
   ]
  },
  {
   "cell_type": "code",
   "execution_count": 10,
   "id": "590f8f66",
   "metadata": {
    "slideshow": {
     "slide_type": "slide"
    }
   },
   "outputs": [],
   "source": [
    "\n",
    "poisson_model = smf.glm(\n",
    "    formula=\"goals ~ home + team + opponent\",\n",
    "    data=training_data,\n",
    "    family=sm.families.Poisson() \n",
    ").fit()"
   ]
  },
  {
   "cell_type": "code",
   "execution_count": 11,
   "id": "422b5962",
   "metadata": {
    "slideshow": {
     "slide_type": "fragment"
    }
   },
   "outputs": [
    {
     "data": {
      "text/html": [
       "<table class=\"simpletable\">\n",
       "<caption>Generalized Linear Model Regression Results</caption>\n",
       "<tr>\n",
       "  <th>Dep. Variable:</th>         <td>goals</td>      <th>  No. Observations:  </th>  <td>   408</td> \n",
       "</tr>\n",
       "<tr>\n",
       "  <th>Model:</th>                  <td>GLM</td>       <th>  Df Residuals:      </th>  <td>   368</td> \n",
       "</tr>\n",
       "<tr>\n",
       "  <th>Model Family:</th>         <td>Poisson</td>     <th>  Df Model:          </th>  <td>    39</td> \n",
       "</tr>\n",
       "<tr>\n",
       "  <th>Link Function:</th>          <td>log</td>       <th>  Scale:             </th> <td>  1.0000</td>\n",
       "</tr>\n",
       "<tr>\n",
       "  <th>Method:</th>                <td>IRLS</td>       <th>  Log-Likelihood:    </th> <td> -562.64</td>\n",
       "</tr>\n",
       "<tr>\n",
       "  <th>Date:</th>            <td>Fri, 21 Jan 2022</td> <th>  Deviance:          </th> <td>  382.96</td>\n",
       "</tr>\n",
       "<tr>\n",
       "  <th>Time:</th>                <td>16:54:29</td>     <th>  Pearson chi2:      </th>  <td>  330.</td> \n",
       "</tr>\n",
       "<tr>\n",
       "  <th>No. Iterations:</th>          <td>5</td>        <th>                     </th>     <td> </td>   \n",
       "</tr>\n",
       "<tr>\n",
       "  <th>Covariance Type:</th>     <td>nonrobust</td>    <th>                     </th>     <td> </td>   \n",
       "</tr>\n",
       "</table>\n",
       "<table class=\"simpletable\">\n",
       "<tr>\n",
       "               <td></td>                 <th>coef</th>     <th>std err</th>      <th>z</th>      <th>P>|z|</th>  <th>[0.025</th>    <th>0.975]</th>  \n",
       "</tr>\n",
       "<tr>\n",
       "  <th>Intercept</th>                  <td>    0.2030</td> <td>    0.274</td> <td>    0.742</td> <td> 0.458</td> <td>   -0.333</td> <td>    0.739</td>\n",
       "</tr>\n",
       "<tr>\n",
       "  <th>team[T.Aston Villa]</th>        <td>   -0.1341</td> <td>    0.261</td> <td>   -0.513</td> <td> 0.608</td> <td>   -0.646</td> <td>    0.378</td>\n",
       "</tr>\n",
       "<tr>\n",
       "  <th>team[T.Brentford]</th>          <td>   -0.3169</td> <td>    0.266</td> <td>   -1.191</td> <td> 0.234</td> <td>   -0.838</td> <td>    0.205</td>\n",
       "</tr>\n",
       "<tr>\n",
       "  <th>team[T.Brighton]</th>           <td>   -0.4563</td> <td>    0.277</td> <td>   -1.649</td> <td> 0.099</td> <td>   -0.999</td> <td>    0.086</td>\n",
       "</tr>\n",
       "<tr>\n",
       "  <th>team[T.Burnley]</th>            <td>   -0.5290</td> <td>    0.306</td> <td>   -1.727</td> <td> 0.084</td> <td>   -1.129</td> <td>    0.071</td>\n",
       "</tr>\n",
       "<tr>\n",
       "  <th>team[T.Chelsea]</th>            <td>    0.2479</td> <td>    0.229</td> <td>    1.082</td> <td> 0.279</td> <td>   -0.201</td> <td>    0.697</td>\n",
       "</tr>\n",
       "<tr>\n",
       "  <th>team[T.Crystal Palace]</th>     <td>   -0.0963</td> <td>    0.254</td> <td>   -0.380</td> <td> 0.704</td> <td>   -0.594</td> <td>    0.401</td>\n",
       "</tr>\n",
       "<tr>\n",
       "  <th>team[T.Everton]</th>            <td>   -0.1933</td> <td>    0.270</td> <td>   -0.717</td> <td> 0.473</td> <td>   -0.722</td> <td>    0.335</td>\n",
       "</tr>\n",
       "<tr>\n",
       "  <th>team[T.Leeds]</th>              <td>   -0.2790</td> <td>    0.270</td> <td>   -1.034</td> <td> 0.301</td> <td>   -0.808</td> <td>    0.250</td>\n",
       "</tr>\n",
       "<tr>\n",
       "  <th>team[T.Leicester]</th>          <td>    0.1427</td> <td>    0.247</td> <td>    0.577</td> <td> 0.564</td> <td>   -0.342</td> <td>    0.627</td>\n",
       "</tr>\n",
       "<tr>\n",
       "  <th>team[T.Liverpool]</th>          <td>    0.4968</td> <td>    0.221</td> <td>    2.245</td> <td> 0.025</td> <td>    0.063</td> <td>    0.931</td>\n",
       "</tr>\n",
       "<tr>\n",
       "  <th>team[T.Man City]</th>           <td>    0.4048</td> <td>    0.223</td> <td>    1.819</td> <td> 0.069</td> <td>   -0.031</td> <td>    0.841</td>\n",
       "</tr>\n",
       "<tr>\n",
       "  <th>team[T.Man United]</th>         <td>    0.0287</td> <td>    0.244</td> <td>    0.118</td> <td> 0.906</td> <td>   -0.450</td> <td>    0.507</td>\n",
       "</tr>\n",
       "<tr>\n",
       "  <th>team[T.Newcastle]</th>          <td>   -0.4742</td> <td>    0.285</td> <td>   -1.666</td> <td> 0.096</td> <td>   -1.032</td> <td>    0.084</td>\n",
       "</tr>\n",
       "<tr>\n",
       "  <th>team[T.Norwich]</th>            <td>   -1.2149</td> <td>    0.362</td> <td>   -3.353</td> <td> 0.001</td> <td>   -1.925</td> <td>   -0.505</td>\n",
       "</tr>\n",
       "<tr>\n",
       "  <th>team[T.Southampton]</th>        <td>   -0.2721</td> <td>    0.266</td> <td>   -1.022</td> <td> 0.307</td> <td>   -0.794</td> <td>    0.250</td>\n",
       "</tr>\n",
       "<tr>\n",
       "  <th>team[T.Tottenham]</th>          <td>   -0.2078</td> <td>    0.263</td> <td>   -0.789</td> <td> 0.430</td> <td>   -0.724</td> <td>    0.309</td>\n",
       "</tr>\n",
       "<tr>\n",
       "  <th>team[T.Watford]</th>            <td>   -0.2668</td> <td>    0.273</td> <td>   -0.976</td> <td> 0.329</td> <td>   -0.802</td> <td>    0.269</td>\n",
       "</tr>\n",
       "<tr>\n",
       "  <th>team[T.West Ham]</th>           <td>    0.1260</td> <td>    0.235</td> <td>    0.536</td> <td> 0.592</td> <td>   -0.335</td> <td>    0.587</td>\n",
       "</tr>\n",
       "<tr>\n",
       "  <th>team[T.Wolves]</th>             <td>   -0.6719</td> <td>    0.299</td> <td>   -2.246</td> <td> 0.025</td> <td>   -1.258</td> <td>   -0.085</td>\n",
       "</tr>\n",
       "<tr>\n",
       "  <th>opponent[T.Aston Villa]</th>    <td>    0.2202</td> <td>    0.269</td> <td>    0.820</td> <td> 0.412</td> <td>   -0.306</td> <td>    0.746</td>\n",
       "</tr>\n",
       "<tr>\n",
       "  <th>opponent[T.Brentford]</th>      <td>    0.2640</td> <td>    0.262</td> <td>    1.009</td> <td> 0.313</td> <td>   -0.249</td> <td>    0.777</td>\n",
       "</tr>\n",
       "<tr>\n",
       "  <th>opponent[T.Brighton]</th>       <td>   -0.1735</td> <td>    0.294</td> <td>   -0.591</td> <td> 0.555</td> <td>   -0.749</td> <td>    0.402</td>\n",
       "</tr>\n",
       "<tr>\n",
       "  <th>opponent[T.Burnley]</th>        <td>    0.1986</td> <td>    0.279</td> <td>    0.712</td> <td> 0.477</td> <td>   -0.348</td> <td>    0.745</td>\n",
       "</tr>\n",
       "<tr>\n",
       "  <th>opponent[T.Chelsea]</th>        <td>   -0.4927</td> <td>    0.310</td> <td>   -1.590</td> <td> 0.112</td> <td>   -1.100</td> <td>    0.115</td>\n",
       "</tr>\n",
       "<tr>\n",
       "  <th>opponent[T.Crystal Palace]</th> <td>    0.1706</td> <td>    0.270</td> <td>    0.632</td> <td> 0.528</td> <td>   -0.359</td> <td>    0.700</td>\n",
       "</tr>\n",
       "<tr>\n",
       "  <th>opponent[T.Everton]</th>        <td>    0.4168</td> <td>    0.265</td> <td>    1.575</td> <td> 0.115</td> <td>   -0.102</td> <td>    0.936</td>\n",
       "</tr>\n",
       "<tr>\n",
       "  <th>opponent[T.Leeds]</th>          <td>    0.4603</td> <td>    0.257</td> <td>    1.788</td> <td> 0.074</td> <td>   -0.044</td> <td>    0.965</td>\n",
       "</tr>\n",
       "<tr>\n",
       "  <th>opponent[T.Leicester]</th>      <td>    0.4229</td> <td>    0.261</td> <td>    1.619</td> <td> 0.106</td> <td>   -0.089</td> <td>    0.935</td>\n",
       "</tr>\n",
       "<tr>\n",
       "  <th>opponent[T.Liverpool]</th>      <td>   -0.3342</td> <td>    0.310</td> <td>   -1.077</td> <td> 0.281</td> <td>   -0.942</td> <td>    0.274</td>\n",
       "</tr>\n",
       "<tr>\n",
       "  <th>opponent[T.Man City]</th>       <td>   -0.7474</td> <td>    0.344</td> <td>   -2.176</td> <td> 0.030</td> <td>   -1.421</td> <td>   -0.074</td>\n",
       "</tr>\n",
       "<tr>\n",
       "  <th>opponent[T.Man United]</th>     <td>    0.1820</td> <td>    0.272</td> <td>    0.668</td> <td> 0.504</td> <td>   -0.352</td> <td>    0.716</td>\n",
       "</tr>\n",
       "<tr>\n",
       "  <th>opponent[T.Newcastle]</th>      <td>    0.5470</td> <td>    0.253</td> <td>    2.163</td> <td> 0.031</td> <td>    0.051</td> <td>    1.043</td>\n",
       "</tr>\n",
       "<tr>\n",
       "  <th>opponent[T.Norwich]</th>        <td>    0.5258</td> <td>    0.251</td> <td>    2.096</td> <td> 0.036</td> <td>    0.034</td> <td>    1.017</td>\n",
       "</tr>\n",
       "<tr>\n",
       "  <th>opponent[T.Southampton]</th>    <td>    0.2329</td> <td>    0.266</td> <td>    0.875</td> <td> 0.382</td> <td>   -0.289</td> <td>    0.755</td>\n",
       "</tr>\n",
       "<tr>\n",
       "  <th>opponent[T.Tottenham]</th>      <td>   -0.0768</td> <td>    0.294</td> <td>   -0.261</td> <td> 0.794</td> <td>   -0.653</td> <td>    0.499</td>\n",
       "</tr>\n",
       "<tr>\n",
       "  <th>opponent[T.Watford]</th>        <td>    0.4789</td> <td>    0.261</td> <td>    1.838</td> <td> 0.066</td> <td>   -0.032</td> <td>    0.990</td>\n",
       "</tr>\n",
       "<tr>\n",
       "  <th>opponent[T.West Ham]</th>       <td>    0.1346</td> <td>    0.272</td> <td>    0.495</td> <td> 0.621</td> <td>   -0.398</td> <td>    0.668</td>\n",
       "</tr>\n",
       "<tr>\n",
       "  <th>opponent[T.Wolves]</th>         <td>   -0.5047</td> <td>    0.327</td> <td>   -1.543</td> <td> 0.123</td> <td>   -1.146</td> <td>    0.136</td>\n",
       "</tr>\n",
       "<tr>\n",
       "  <th>home</th>                       <td>    0.2238</td> <td>    0.084</td> <td>    2.674</td> <td> 0.007</td> <td>    0.060</td> <td>    0.388</td>\n",
       "</tr>\n",
       "</table>"
      ],
      "text/plain": [
       "<class 'statsmodels.iolib.summary.Summary'>\n",
       "\"\"\"\n",
       "                 Generalized Linear Model Regression Results                  \n",
       "==============================================================================\n",
       "Dep. Variable:                  goals   No. Observations:                  408\n",
       "Model:                            GLM   Df Residuals:                      368\n",
       "Model Family:                 Poisson   Df Model:                           39\n",
       "Link Function:                    log   Scale:                          1.0000\n",
       "Method:                          IRLS   Log-Likelihood:                -562.64\n",
       "Date:                Fri, 21 Jan 2022   Deviance:                       382.96\n",
       "Time:                        16:54:29   Pearson chi2:                     330.\n",
       "No. Iterations:                     5                                         \n",
       "Covariance Type:            nonrobust                                         \n",
       "==============================================================================================\n",
       "                                 coef    std err          z      P>|z|      [0.025      0.975]\n",
       "----------------------------------------------------------------------------------------------\n",
       "Intercept                      0.2030      0.274      0.742      0.458      -0.333       0.739\n",
       "team[T.Aston Villa]           -0.1341      0.261     -0.513      0.608      -0.646       0.378\n",
       "team[T.Brentford]             -0.3169      0.266     -1.191      0.234      -0.838       0.205\n",
       "team[T.Brighton]              -0.4563      0.277     -1.649      0.099      -0.999       0.086\n",
       "team[T.Burnley]               -0.5290      0.306     -1.727      0.084      -1.129       0.071\n",
       "team[T.Chelsea]                0.2479      0.229      1.082      0.279      -0.201       0.697\n",
       "team[T.Crystal Palace]        -0.0963      0.254     -0.380      0.704      -0.594       0.401\n",
       "team[T.Everton]               -0.1933      0.270     -0.717      0.473      -0.722       0.335\n",
       "team[T.Leeds]                 -0.2790      0.270     -1.034      0.301      -0.808       0.250\n",
       "team[T.Leicester]              0.1427      0.247      0.577      0.564      -0.342       0.627\n",
       "team[T.Liverpool]              0.4968      0.221      2.245      0.025       0.063       0.931\n",
       "team[T.Man City]               0.4048      0.223      1.819      0.069      -0.031       0.841\n",
       "team[T.Man United]             0.0287      0.244      0.118      0.906      -0.450       0.507\n",
       "team[T.Newcastle]             -0.4742      0.285     -1.666      0.096      -1.032       0.084\n",
       "team[T.Norwich]               -1.2149      0.362     -3.353      0.001      -1.925      -0.505\n",
       "team[T.Southampton]           -0.2721      0.266     -1.022      0.307      -0.794       0.250\n",
       "team[T.Tottenham]             -0.2078      0.263     -0.789      0.430      -0.724       0.309\n",
       "team[T.Watford]               -0.2668      0.273     -0.976      0.329      -0.802       0.269\n",
       "team[T.West Ham]               0.1260      0.235      0.536      0.592      -0.335       0.587\n",
       "team[T.Wolves]                -0.6719      0.299     -2.246      0.025      -1.258      -0.085\n",
       "opponent[T.Aston Villa]        0.2202      0.269      0.820      0.412      -0.306       0.746\n",
       "opponent[T.Brentford]          0.2640      0.262      1.009      0.313      -0.249       0.777\n",
       "opponent[T.Brighton]          -0.1735      0.294     -0.591      0.555      -0.749       0.402\n",
       "opponent[T.Burnley]            0.1986      0.279      0.712      0.477      -0.348       0.745\n",
       "opponent[T.Chelsea]           -0.4927      0.310     -1.590      0.112      -1.100       0.115\n",
       "opponent[T.Crystal Palace]     0.1706      0.270      0.632      0.528      -0.359       0.700\n",
       "opponent[T.Everton]            0.4168      0.265      1.575      0.115      -0.102       0.936\n",
       "opponent[T.Leeds]              0.4603      0.257      1.788      0.074      -0.044       0.965\n",
       "opponent[T.Leicester]          0.4229      0.261      1.619      0.106      -0.089       0.935\n",
       "opponent[T.Liverpool]         -0.3342      0.310     -1.077      0.281      -0.942       0.274\n",
       "opponent[T.Man City]          -0.7474      0.344     -2.176      0.030      -1.421      -0.074\n",
       "opponent[T.Man United]         0.1820      0.272      0.668      0.504      -0.352       0.716\n",
       "opponent[T.Newcastle]          0.5470      0.253      2.163      0.031       0.051       1.043\n",
       "opponent[T.Norwich]            0.5258      0.251      2.096      0.036       0.034       1.017\n",
       "opponent[T.Southampton]        0.2329      0.266      0.875      0.382      -0.289       0.755\n",
       "opponent[T.Tottenham]         -0.0768      0.294     -0.261      0.794      -0.653       0.499\n",
       "opponent[T.Watford]            0.4789      0.261      1.838      0.066      -0.032       0.990\n",
       "opponent[T.West Ham]           0.1346      0.272      0.495      0.621      -0.398       0.668\n",
       "opponent[T.Wolves]            -0.5047      0.327     -1.543      0.123      -1.146       0.136\n",
       "home                           0.2238      0.084      2.674      0.007       0.060       0.388\n",
       "==============================================================================================\n",
       "\"\"\""
      ]
     },
     "execution_count": 11,
     "metadata": {},
     "output_type": "execute_result"
    }
   ],
   "source": [
    "poisson_model.summary()"
   ]
  },
  {
   "cell_type": "code",
   "execution_count": 12,
   "id": "33dff13b",
   "metadata": {
    "slideshow": {
     "slide_type": "fragment"
    }
   },
   "outputs": [],
   "source": [
    "def create_X(home_team, away_team):\n",
    "    X_home = pd.DataFrame(data={\"team\": home_team,\n",
    "                                \"opponent\": away_team,\n",
    "                                \"home\": 1\n",
    "                                }, index=[1])\n",
    "    \n",
    "    X_away = pd.DataFrame(data={\"team\": away_team,\n",
    "                                \"opponent\": home_team,\n",
    "                                \"home\": 0\n",
    "                                }, index=[1])\n",
    "    \n",
    "    return X_home, X_away"
   ]
  },
  {
   "cell_type": "code",
   "execution_count": 13,
   "id": "543f6bbd",
   "metadata": {
    "slideshow": {
     "slide_type": "fragment"
    }
   },
   "outputs": [],
   "source": [
    "def predict_avg_goals(X_home, X_away, model):\n",
    "    home_goals_avg = model.predict(X_home) \n",
    "    \n",
    "    away_goals_avg = model.predict(X_away) \n",
    "    \n",
    "    return home_goals_avg, away_goals_avg"
   ]
  },
  {
   "cell_type": "code",
   "execution_count": 14,
   "id": "efb1e112",
   "metadata": {
    "slideshow": {
     "slide_type": "slide"
    }
   },
   "outputs": [
    {
     "name": "stdout",
     "output_type": "stream",
     "text": [
      "Average Home Goals:  0.9299023272771175\n",
      "Average Away Goals:  1.1219573696488538\n"
     ]
    }
   ],
   "source": [
    "X_home, X_away =  create_X('Chelsea', 'Man City')\n",
    "avg_goals = predict_avg_goals(X_home, X_away, poisson_model)\n",
    "print('Average Home Goals: ', avg_goals[0].values[0])\n",
    "print('Average Away Goals: ', avg_goals[1].values[0])"
   ]
  },
  {
   "cell_type": "code",
   "execution_count": 15,
   "id": "bf47327b",
   "metadata": {
    "slideshow": {
     "slide_type": "fragment"
    }
   },
   "outputs": [],
   "source": [
    "\n",
    "def predict_score_pmf(X_home, X_away, model, max_goals):\n",
    "    avg_goals = predict_avg_goals(X_home, X_away, model)\n",
    "    home_goals_avg = avg_goals[0]\n",
    "    away_goals_avg = avg_goals[1]\n",
    "    home_goals_pmf = [poisson.pmf(i, home_goals_avg)\n",
    "                      for i in range(0, max_goals + 1)]\n",
    "    away_goals_pmf = [poisson.pmf(i, away_goals_avg)\n",
    "                      for i in range(0, max_goals + 1)]\n",
    "    joint_pmf = np.outer(np.array(home_goals_pmf),\n",
    "                         np.array(away_goals_pmf))\n",
    "    \n",
    "    return joint_pmf"
   ]
  },
  {
   "cell_type": "code",
   "execution_count": 17,
   "id": "a90959ac",
   "metadata": {
    "slideshow": {
     "slide_type": "fragment"
    }
   },
   "outputs": [],
   "source": [
    "def predict_score(X_home, X_away, model):\n",
    "    score_pmf = predict_score_pmf(X_home, X_away, model,16)\n",
    "    score_pmf = score_pmf.round(3)\n",
    "    \n",
    "    home_goals_mode = np.argmax(score_pmf) // (17)\n",
    "    away_goals_mode = np.argmax(score_pmf) % (17)\n",
    "    score_pred = (home_goals_mode, away_goals_mode)\n",
    "    return score_pred"
   ]
  },
  {
   "cell_type": "code",
   "execution_count": 18,
   "id": "dd6f3700",
   "metadata": {
    "slideshow": {
     "slide_type": "fragment"
    }
   },
   "outputs": [
    {
     "name": "stdout",
     "output_type": "stream",
     "text": [
      "Watford v Norwich: (1, 0)\n",
      "Everton v Aston Villa: (1, 1)\n",
      "Brentford v Wolves: (0, 0)\n",
      "Leeds v Newcastle: (1, 1)\n",
      "Man United v Westham: (1, 1)\n",
      "Southampton v Man City: (0, 2)\n",
      "Arsenal v Burnley: (1, 0)\n",
      "Crystal Palace v Liverpool: (0, 2)\n",
      "Leicester v Brighton: (1, 1)\n",
      "Chelsea v Spurs: (1, 0)\n"
     ]
    }
   ],
   "source": [
    "Watford, Norwich =  create_X('Watford', 'Norwich')\n",
    "Match =  predict_score(Watford, Norwich, poisson_model)\n",
    "#using results from the predict_score function\n",
    "print('Watford v Norwich:', Match)\n"
   ]
  }
 ],
 "metadata": {
  "celltoolbar": "Slideshow",
  "kernelspec": {
   "display_name": "Python 3",
   "language": "python",
   "name": "python3"
  },
  "language_info": {
   "codemirror_mode": {
    "name": "ipython",
    "version": 3
   },
   "file_extension": ".py",
   "mimetype": "text/x-python",
   "name": "python",
   "nbconvert_exporter": "python",
   "pygments_lexer": "ipython3",
   "version": "3.8.8"
  }
 },
 "nbformat": 4,
 "nbformat_minor": 5
}
